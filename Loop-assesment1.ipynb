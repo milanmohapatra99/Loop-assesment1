{
 "cells": [
  {
   "cell_type": "code",
   "execution_count": 5,
   "id": "2f77cb7c",
   "metadata": {},
   "outputs": [
    {
     "name": "stdout",
     "output_type": "stream",
     "text": [
      "Please enter the Total Number of List Elements: 5\n",
      "Please enter the Value of 1 Element : 3\n",
      "Please enter the Value of 2 Element : 1\n",
      "Please enter the Value of 3 Element : 6\n",
      "Please enter the Value of 4 Element : 4\n",
      "Please enter the Value of 5 Element : 7\n",
      "\n",
      "The Sum of Even Numbers in this List =   10\n",
      "The Mul of Odd Numbers in this List =   21\n"
     ]
    }
   ],
   "source": [
    "#w.a.p to add all evennumber and multiply all odd number from 1 - n\n",
    "NumList = []\n",
    "Even_Sum = 0\n",
    "Odd_Mul = 1\n",
    "\n",
    "Number = int(input(\"Please enter the Total Number of List Elements: \"))\n",
    "for i in range(1, Number + 1):\n",
    "    value = int(input(\"Please enter the Value of %d Element : \" %i))\n",
    "    NumList.append(value)\n",
    "\n",
    "for j in range(Number):\n",
    "    if(NumList[j] % 2 == 0):\n",
    "        Even_Sum = Even_Sum + NumList[j]\n",
    "    else:\n",
    "        Odd_Mul = Odd_Mul * NumList[j]\n",
    "\n",
    "print(\"\\nThe Sum of Even Numbers in this List =  \", Even_Sum)\n",
    "print(\"The Mul of Odd Numbers in this List =  \", Odd_Mul)"
   ]
  },
  {
   "cell_type": "code",
   "execution_count": 7,
   "id": "7858efee",
   "metadata": {},
   "outputs": [
    {
     "name": "stdout",
     "output_type": "stream",
     "text": [
      "Enter Your Number:-\n",
      "\t456\n",
      "The no of digit is:- 3\n"
     ]
    }
   ],
   "source": [
    "#w.a.p input a no & count the digit\n",
    "n = int(input(\"Enter Your Number:-\\n\\t\"))\n",
    "ctr = 0\n",
    "while(n!=0):\n",
    "    ctr = ctr+1\n",
    "    n = n // 10\n",
    "print(\"The no of digit is:-\",ctr)    "
   ]
  },
  {
   "cell_type": "code",
   "execution_count": 8,
   "id": "74847462",
   "metadata": {},
   "outputs": [
    {
     "name": "stdout",
     "output_type": "stream",
     "text": [
      "Enter Your Number:-\n",
      "\t453\n",
      "The no of digit is:- 12\n"
     ]
    }
   ],
   "source": [
    "#w.a.p to display sum of all digits\n",
    "n = int(input(\"Enter Your Number:-\\n\\t\"))\n",
    "sum = 0\n",
    "dg = 0\n",
    "while(n!=0):\n",
    "    dg = n % 10\n",
    "    sum = sum + dg\n",
    "    n = n // 10\n",
    "print(\"The no of digit is:-\",sum)   "
   ]
  },
  {
   "cell_type": "code",
   "execution_count": 9,
   "id": "b86305c6",
   "metadata": {},
   "outputs": [
    {
     "name": "stdout",
     "output_type": "stream",
     "text": [
      "Enter Your Number:-\n",
      "\t253\n",
      "The no of digit is:- 352\n"
     ]
    }
   ],
   "source": [
    "#w.a.p to reverse a no\n",
    "n = int(input(\"Enter Your Number:-\\n\\t\"))\n",
    "rev = 0\n",
    "dg = 0\n",
    "while(n!=0):\n",
    "    dg = n % 10\n",
    "    rev = rev * 10 + dg \n",
    "    n = n // 10\n",
    "print(\"The no of digit is:-\",rev)  \n"
   ]
  },
  {
   "cell_type": "code",
   "execution_count": null,
   "id": "87be39b1",
   "metadata": {},
   "outputs": [],
   "source": []
  }
 ],
 "metadata": {
  "kernelspec": {
   "display_name": "Python 3 (ipykernel)",
   "language": "python",
   "name": "python3"
  },
  "language_info": {
   "codemirror_mode": {
    "name": "ipython",
    "version": 3
   },
   "file_extension": ".py",
   "mimetype": "text/x-python",
   "name": "python",
   "nbconvert_exporter": "python",
   "pygments_lexer": "ipython3",
   "version": "3.9.7"
  }
 },
 "nbformat": 4,
 "nbformat_minor": 5
}
